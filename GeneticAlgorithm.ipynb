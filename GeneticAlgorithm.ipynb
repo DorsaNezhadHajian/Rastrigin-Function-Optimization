{
 "cells": [
  {
   "cell_type": "markdown",
   "metadata": {},
   "source": [
    "## The Proposed Function"
   ]
  },
  {
   "cell_type": "code",
   "execution_count": 1,
   "metadata": {},
   "outputs": [],
   "source": [
    "import numpy as np\n",
    "\n",
    "# Define the custom optimization function.\n",
    "def custom_function(X):\n",
    "    # Summation of x_i squared and a cosine function of the index i.\n",
    "    return sum([x_i**2 + 10 * np.cos(2 * np.pi * i) - 10 for i, x_i in enumerate(X, start=1)])\n",
    "\n",
    "# i=1 :30\n",
    "number_of_genes = 30"
   ]
  },
  {
   "cell_type": "markdown",
   "metadata": {},
   "source": [
    "## Genetic Algorithm Requirements"
   ]
  },
  {
   "cell_type": "code",
   "execution_count": 2,
   "metadata": {},
   "outputs": [],
   "source": [
    "# Set the genetic algorithm parameters: \n",
    "population_size = 500   # Number of individuals for each x_i\n",
    "generations = 1000\n",
    "mutation_rate = 0.01    # Relatively Low mutation Rate\n",
    "crossover_rate = 0.9\n",
    "elitism_size = 25       # Relatively high number of Elites translated to next genertion intact\n",
    "\n",
    "\n",
    "# Define the tournament selection process for the genetic algorithm.\n",
    "def tournament_selection(population, scores, k=3):\n",
    "    # Tournament selection process for selecting the fittest individual among a subset of the population.\n",
    "    selection_ix = np.random.randint(len(population))\n",
    "    for ix in np.random.randint(0, len(population), k-1):\n",
    "        if scores[ix] < scores[selection_ix]:\n",
    "            selection_ix = ix\n",
    "    return population[selection_ix]\n",
    "\n",
    "# Define the crossover process.\n",
    "def crossover(parent_1, parent_2, r_cross):\n",
    "    # Crossover process to generate new offspring.\n",
    "    c1, c2 = parent_1.copy(), parent_2.copy()\n",
    "    if np.random.rand() < r_cross:\n",
    "        pt = np.random.randint(1, len(parent_1)-2)\n",
    "        c1 = np.concatenate((parent_1[:pt], parent_2[pt:]))\n",
    "        c2 = np.concatenate((parent_2[:pt], parent_1[pt:]))\n",
    "    return [c1, c2]\n",
    "\n",
    "# Define the mutation process.\n",
    "def mutation(individual, r_mut):\n",
    "    # Mutation process to introduce variations.\n",
    "    for i in range(len(individual)):\n",
    "        if np.random.rand() < r_mut:\n",
    "            individual[i] = np.random.uniform(-10, 10)\n",
    "    return individual"
   ]
  },
  {
   "cell_type": "markdown",
   "metadata": {},
   "source": [
    "## Main code"
   ]
  },
  {
   "cell_type": "code",
   "execution_count": 3,
   "metadata": {},
   "outputs": [
    {
     "name": "stdout",
     "output_type": "stream",
     "text": [
      "Generation 1: Best Global Minimum = 534.23984\n",
      "Generation 50: Best Global Minimum = 12.29167\n",
      "Generation 100: Best Global Minimum = 2.03693\n",
      "Generation 150: Best Global Minimum = 0.35635\n",
      "Generation 200: Best Global Minimum = 0.10021\n",
      "Generation 250: Best Global Minimum = 0.03097\n",
      "Generation 300: Best Global Minimum = 0.01774\n",
      "Generation 350: Best Global Minimum = 0.00729\n",
      "Generation 400: Best Global Minimum = 0.00446\n",
      "Generation 450: Best Global Minimum = 0.00424\n",
      "Generation 500: Best Global Minimum = 0.00411\n",
      "Generation 550: Best Global Minimum = 0.00275\n",
      "Generation 600: Best Global Minimum = 0.00152\n",
      "Generation 650: Best Global Minimum = 0.00152\n",
      "Generation 700: Best Global Minimum = 0.00136\n",
      "Generation 750: Best Global Minimum = 0.00129\n",
      "Generation 800: Best Global Minimum = 0.00120\n",
      "Generation 850: Best Global Minimum = 0.00082\n",
      "Generation 900: Best Global Minimum = 0.00071\n",
      "Generation 950: Best Global Minimum = 0.00065\n",
      "Generation 1000: Best Global Minimum = 0.00065\n",
      "Best individual: [ 0.00519735 -0.00134391  0.00334018 -0.00483539 -0.00225011  0.00597919\n",
      " -0.01047552 -0.0046528  -0.00103279  0.00063189 -0.00088427  0.00117547\n",
      "  0.00027904  0.00399366 -0.00074085 -0.001028    0.01101762 -0.0015917\n",
      "  0.00277642  0.0107009   0.00878023 -0.0013911   0.00095406 -0.00586554\n",
      " -0.00097236  0.00252472  0.00301816  0.0011792  -0.00254052  0.00256638]\n",
      "Best global minimum: 0.00065\n"
     ]
    }
   ],
   "source": [
    "# Initialize the population.\n",
    "population = np.random.uniform(low=-10, high=10, size=(population_size, number_of_genes))\n",
    "\n",
    "# Initialize variables to keep track of the best solution.\n",
    "best_global_minimum = float('inf')\n",
    "best_individual_overall = None\n",
    "last_best_score = None\n",
    "\n",
    "# Start the genetic algorithm...................................................................................\n",
    "for generation in range(generations):\n",
    "    # Evaluate the current population.\n",
    "    scores = np.array([custom_function(ind) for ind in population])\n",
    "    \n",
    "    # Update the best global minimum if found.\n",
    "    current_best_index = np.argmin(scores)\n",
    "    current_best_score = scores[current_best_index]\n",
    "    if current_best_score < best_global_minimum:\n",
    "        best_global_minimum = current_best_score\n",
    "        best_individual_overall = population[current_best_index]\n",
    "        last_best_score = best_global_minimum\n",
    "    \n",
    "    # Implement elitism.\n",
    "    sorted_indices = np.argsort(scores)\n",
    "    elites = population[sorted_indices[:elitism_size]]\n",
    "    \n",
    "    # Generate a new population including the elites.\n",
    "    new_population = elites.tolist()\n",
    "    while len(new_population) < population_size:\n",
    "        # Perform tournament selection, crossover, and mutation.\n",
    "        parent_1 = tournament_selection(population, scores)\n",
    "        parent_2 = tournament_selection(population, scores)\n",
    "        for child in crossover(parent_1, parent_2, crossover_rate):\n",
    "            new_population.append(mutation(child, mutation_rate))\n",
    "            if len(new_population) >= population_size:\n",
    "                break\n",
    "    population = np.array(new_population)\n",
    "    \n",
    "    # Optional: Print progress.\n",
    "    if generation== 0 or (generation+1) % 50 == 0:\n",
    "        print(f\"Generation {generation+1}: Best Global Minimum = {best_global_minimum:.5f}\")\n",
    "\n",
    "# Output the best individual and its score.\n",
    "print(f\"Best individual: {best_individual_overall}\")\n",
    "print(f\"Best global minimum: {best_global_minimum:.5f}\")"
   ]
  }
 ],
 "metadata": {
  "kernelspec": {
   "display_name": "Python 3",
   "language": "python",
   "name": "python3"
  },
  "language_info": {
   "codemirror_mode": {
    "name": "ipython",
    "version": 3
   },
   "file_extension": ".py",
   "mimetype": "text/x-python",
   "name": "python",
   "nbconvert_exporter": "python",
   "pygments_lexer": "ipython3",
   "version": "3.11.2"
  }
 },
 "nbformat": 4,
 "nbformat_minor": 2
}
